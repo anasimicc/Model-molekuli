{
  "nbformat": 4,
  "nbformat_minor": 0,
  "metadata": {
    "colab": {
      "provenance": [],
      "toc_visible": true,
      "authorship_tag": "ABX9TyPQJSRwsJnhdQbLg/cTyndl",
      "include_colab_link": true
    },
    "kernelspec": {
      "name": "python3",
      "display_name": "Python 3"
    },
    "language_info": {
      "name": "python"
    }
  },
  "cells": [
    {
      "cell_type": "markdown",
      "metadata": {
        "id": "view-in-github",
        "colab_type": "text"
      },
      "source": [
        "<a href=\"https://colab.research.google.com/github/anasimicc/Model-molekuli/blob/main/Model_molekuli.ipynb\" target=\"_parent\"><img src=\"https://colab.research.google.com/assets/colab-badge.svg\" alt=\"Open In Colab\"/></a>"
      ]
    },
    {
      "cell_type": "markdown",
      "source": [
        "#Prvi model mašinskog učenja"
      ],
      "metadata": {
        "id": "_hgnPUdOTnQy"
      }
    },
    {
      "cell_type": "markdown",
      "source": [
        "## 1. Učitavanje podataka"
      ],
      "metadata": {
        "id": "uYaomb9iUAJD"
      }
    },
    {
      "cell_type": "code",
      "source": [
        "import pandas as pd\n",
        "\n",
        "df = pd.read_csv('https://raw.githubusercontent.com/dataprofessor/data/master/delaney_solubility_with_descriptors.csv')\n"
      ],
      "metadata": {
        "id": "UMEaDI0oT73m"
      },
      "execution_count": null,
      "outputs": []
    },
    {
      "cell_type": "markdown",
      "source": [
        "## 2. Priprema podataka"
      ],
      "metadata": {
        "id": "I3j3E1MVa0En"
      }
    },
    {
      "cell_type": "markdown",
      "source": [
        "###Podela podataka na x i y"
      ],
      "metadata": {
        "id": "7X8MRw1_bDCB"
      }
    },
    {
      "cell_type": "code",
      "source": [
        "Y = df['logS']\n",
        "X = df.drop('logS', axis = 1)"
      ],
      "metadata": {
        "collapsed": true,
        "id": "K0PWbo8ObHDi"
      },
      "execution_count": null,
      "outputs": []
    },
    {
      "cell_type": "markdown",
      "source": [
        "### Podela podataka za treniranje i testiranje"
      ],
      "metadata": {
        "id": "aYVIf6U7cPBN"
      }
    },
    {
      "cell_type": "code",
      "source": [
        "from sklearn.model_selection import train_test_split\n",
        "\n",
        "x_train, x_test, y_train, y_test = train_test_split(X, Y, test_size = 0.2, random_state = 100)\n",
        "y_train"
      ],
      "metadata": {
        "id": "twepX3X2cVRF"
      },
      "execution_count": null,
      "outputs": []
    },
    {
      "cell_type": "markdown",
      "source": [
        "## Pravljenje modela"
      ],
      "metadata": {
        "id": "xQ6qhQfuikrA"
      }
    },
    {
      "cell_type": "markdown",
      "source": [
        "### Linearna regresija"
      ],
      "metadata": {
        "id": "JNWaP7_Oi2Rb"
      }
    },
    {
      "cell_type": "markdown",
      "source": [
        "**Treniranje modela**"
      ],
      "metadata": {
        "id": "WAkgOFUAk5O6"
      }
    },
    {
      "cell_type": "code",
      "source": [
        "from sklearn.linear_model import LinearRegression\n",
        "\n",
        "lr = LinearRegression()\n",
        "lr.fit(x_train, y_train)\n"
      ],
      "metadata": {
        "id": "gaS7GEXCi5qs"
      },
      "execution_count": null,
      "outputs": []
    },
    {
      "cell_type": "markdown",
      "source": [
        "**Rad modela nad podacima**"
      ],
      "metadata": {
        "id": "u-9yF4gqlFch"
      }
    },
    {
      "cell_type": "code",
      "source": [
        "y_lr_train_pred = lr.predict(x_train)\n",
        "y_lr_test_pred = lr.predict(x_test)"
      ],
      "metadata": {
        "id": "bQFG7ObqlLXt"
      },
      "execution_count": null,
      "outputs": []
    },
    {
      "cell_type": "markdown",
      "source": [
        "**Evaluacija modela**"
      ],
      "metadata": {
        "id": "QAOJFu1blPFg"
      }
    },
    {
      "cell_type": "code",
      "source": [
        "from sklearn.metrics import mean_squared_error, r2_score\n",
        "\n",
        "lr_train_mse = mean_squared_error(y_train, y_lr_train_pred)\n",
        "lr_test_mse = mean_squared_error(y_test, y_lr_test_pred)\n",
        "lr_train_r2 = r2_score(y_train, y_lr_train_pred)\n",
        "lr_test_r2 = r2_score(y_test, y_lr_test_pred)\n",
        "\n",
        "lr_results = pd.DataFrame(['Linear Regression', lr_train_mse, lr_train_r2, lr_test_mse, lr_test_r2]).transpose()\n",
        "lr_results.columns = ['Method', 'Training_MSE', 'Training_R2', 'Testing_MSE', 'Testing_R2']"
      ],
      "metadata": {
        "id": "TYXJNU-Xlrr8"
      },
      "execution_count": null,
      "outputs": []
    },
    {
      "cell_type": "markdown",
      "source": [
        "### Random forest"
      ],
      "metadata": {
        "id": "1d2yJ7mAqHHb"
      }
    },
    {
      "cell_type": "markdown",
      "source": [
        "**Treniranje modela**"
      ],
      "metadata": {
        "id": "BtyzEk6Wqqic"
      }
    },
    {
      "cell_type": "code",
      "source": [
        "from sklearn.ensemble import RandomForestRegressor\n",
        "\n",
        "rf = RandomForestRegressor(max_depth = 2, random_state = 100)\n",
        "rf.fit(x_train, y_train)"
      ],
      "metadata": {
        "id": "qF-ODZkbq9js"
      },
      "execution_count": null,
      "outputs": []
    },
    {
      "cell_type": "markdown",
      "source": [
        "**Rad modela nad podacima**"
      ],
      "metadata": {
        "id": "c59FpshQq2Pt"
      }
    },
    {
      "cell_type": "code",
      "source": [
        "y_rf_train_pred = rf.predict(x_train)\n",
        "y_rf_test_pred = rf.predict(x_test)"
      ],
      "metadata": {
        "id": "eXgogMK4rppr"
      },
      "execution_count": null,
      "outputs": []
    },
    {
      "cell_type": "markdown",
      "source": [
        "**Evaluacija modela**"
      ],
      "metadata": {
        "id": "Kd3IIxh1q58x"
      }
    },
    {
      "cell_type": "code",
      "source": [
        "rf_train_mse = mean_squared_error(y_train, y_rf_train_pred)\n",
        "rf_test_mse = mean_squared_error(y_test, y_rf_test_pred)\n",
        "rf_train_r2 = r2_score(y_train, y_rf_train_pred)\n",
        "rf_test_r2 = r2_score(y_test, y_rf_test_pred)\n",
        "\n",
        "rf_results = pd.DataFrame(['Random Forest', rf_train_mse, rf_train_r2, rf_test_mse, rf_test_r2]).transpose()\n",
        "rf_results.columns = ['Method', 'Training_MSE', 'Training_R2', 'Testing_MSE', 'Testing_R2']"
      ],
      "metadata": {
        "id": "Z8mAdCDCsB5i"
      },
      "execution_count": null,
      "outputs": []
    },
    {
      "cell_type": "markdown",
      "source": [
        "## Poredjenje modela"
      ],
      "metadata": {
        "id": "2All1PpPs4Bl"
      }
    },
    {
      "cell_type": "code",
      "source": [
        "df_models = pd.concat([lr_results, rf_results], axis = 0)"
      ],
      "metadata": {
        "id": "gGztzauis_UY"
      },
      "execution_count": null,
      "outputs": []
    },
    {
      "cell_type": "code",
      "source": [
        "df_models.reset_index(drop = True)"
      ],
      "metadata": {
        "id": "Iv-DBFKJtm4n"
      },
      "execution_count": null,
      "outputs": []
    },
    {
      "cell_type": "markdown",
      "source": [
        "## Prikaz podataka"
      ],
      "metadata": {
        "id": "1wxv1HWXuCHH"
      }
    },
    {
      "cell_type": "code",
      "source": [
        "import matplotlib.pyplot as plt\n",
        "import numpy as np\n",
        "\n",
        "plt.scatter(x = y_train, y = y_lr_train_pred)\n",
        "\n",
        "z = np.polyfit(y_train, y_lr_train_pred, 1)\n",
        "p = np.poly1d(z)\n",
        "\n",
        "plt.plot(y_train, p(y_train), '#C4FF23')\n",
        "plt.ylabel('Predicted')\n",
        "plt.xlabel('Real')"
      ],
      "metadata": {
        "colab": {
          "base_uri": "https://localhost:8080/",
          "height": 466
        },
        "id": "40R0SiWGuFSv",
        "outputId": "3c8caea8-b6f1-406f-9b45-d6951745a8cf"
      },
      "execution_count": null,
      "outputs": [
        {
          "output_type": "execute_result",
          "data": {
            "text/plain": [
              "Text(0.5, 0, 'Real')"
            ]
          },
          "metadata": {},
          "execution_count": 50
        },
        {
          "output_type": "display_data",
          "data": {
            "text/plain": [
              "<Figure size 640x480 with 1 Axes>"
            ],
            "image/png": "[encoded data removed]"
          },
          "metadata": {}
        }
      ]
    }
  ]
}